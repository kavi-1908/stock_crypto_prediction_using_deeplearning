{
 "cells": [
  {
   "cell_type": "code",
   "execution_count": 2,
   "metadata": {},
   "outputs": [
    {
     "name": "stderr",
     "output_type": "stream",
     "text": [
      "c:\\Users\\Kutyk\\AppData\\Local\\Programs\\Python\\Python311\\Lib\\site-packages\\tqdm\\auto.py:21: TqdmWarning: IProgress not found. Please update jupyter and ipywidgets. See https://ipywidgets.readthedocs.io/en/stable/user_install.html\n",
      "  from .autonotebook import tqdm as notebook_tqdm\n",
      "WARNING:pgmpy:BayesianModel has been renamed to BayesianNetwork. Please use BayesianNetwork class, BayesianModel will be removed in future.\n"
     ]
    },
    {
     "ename": "TypeError",
     "evalue": "ParameterEstimator.__init__() missing 1 required positional argument: 'data'",
     "output_type": "error",
     "traceback": [
      "\u001b[1;31m---------------------------------------------------------------------------\u001b[0m",
      "\u001b[1;31mTypeError\u001b[0m                                 Traceback (most recent call last)",
      "Cell \u001b[1;32mIn[2], line 9\u001b[0m\n\u001b[0;32m      6\u001b[0m model \u001b[38;5;241m=\u001b[39m BayesianModel([(\u001b[38;5;124m'\u001b[39m\u001b[38;5;124mA\u001b[39m\u001b[38;5;124m'\u001b[39m, \u001b[38;5;124m'\u001b[39m\u001b[38;5;124mC\u001b[39m\u001b[38;5;124m'\u001b[39m), (\u001b[38;5;124m'\u001b[39m\u001b[38;5;124mB\u001b[39m\u001b[38;5;124m'\u001b[39m, \u001b[38;5;124m'\u001b[39m\u001b[38;5;124mC\u001b[39m\u001b[38;5;124m'\u001b[39m)])\n\u001b[0;32m      8\u001b[0m \u001b[38;5;66;03m# Specify conditional probability distributions\u001b[39;00m\n\u001b[1;32m----> 9\u001b[0m cpd_A \u001b[38;5;241m=\u001b[39m \u001b[43mParameterEstimator\u001b[49m\u001b[43m(\u001b[49m\u001b[43mmodel\u001b[49m\u001b[43m)\u001b[49m\u001b[38;5;241m.\u001b[39mestimate_cpd(\u001b[38;5;124m'\u001b[39m\u001b[38;5;124mA\u001b[39m\u001b[38;5;124m'\u001b[39m)\n\u001b[0;32m     10\u001b[0m cpd_B \u001b[38;5;241m=\u001b[39m ParameterEstimator(model)\u001b[38;5;241m.\u001b[39mestimate_cpd(\u001b[38;5;124m'\u001b[39m\u001b[38;5;124mB\u001b[39m\u001b[38;5;124m'\u001b[39m)\n\u001b[0;32m     11\u001b[0m cpd_C \u001b[38;5;241m=\u001b[39m ParameterEstimator(model)\u001b[38;5;241m.\u001b[39mestimate_cpd(\u001b[38;5;124m'\u001b[39m\u001b[38;5;124mC\u001b[39m\u001b[38;5;124m'\u001b[39m)\n",
      "\u001b[1;31mTypeError\u001b[0m: ParameterEstimator.__init__() missing 1 required positional argument: 'data'"
     ]
    }
   ],
   "source": [
    "from pgmpy.models import BayesianModel\n",
    "from pgmpy.estimators import ParameterEstimator\n",
    "from pgmpy.inference import VariableElimination\n",
    "\n",
    "# Define the structure of the Bayesian network\n",
    "model = BayesianModel([('A', 'C'), ('B', 'C')])\n",
    "\n",
    "# Specify conditional probability distributions\n",
    "cpd_A = ParameterEstimator(model).estimate_cpd('A')\n",
    "cpd_B = ParameterEstimator(model).estimate_cpd('B')\n",
    "cpd_C = ParameterEstimator(model).estimate_cpd('C')\n",
    "\n",
    "# Add the CPDs to the model\n",
    "model.add_cpds(cpd_A, cpd_B, cpd_C)\n",
    "\n",
    "# Check the model for consistency\n",
    "model.check_model()\n",
    "\n",
    "# Perform inference\n",
    "inference = VariableElimination(model)\n",
    "result = inference.query(variables=['C'], evidence={'A': 1, 'B': 0})\n",
    "\n",
    "print(result)\n"
   ]
  },
  {
   "cell_type": "code",
   "execution_count": 3,
   "metadata": {},
   "outputs": [
    {
     "name": "stderr",
     "output_type": "stream",
     "text": [
      "WARNING:pgmpy:BayesianModel has been renamed to BayesianNetwork. Please use BayesianNetwork class, BayesianModel will be removed in future.\n",
      "100%|██████████| 4/4 [00:00<00:00, 1337.04it/s]\n"
     ]
    },
    {
     "name": "stdout",
     "output_type": "stream",
     "text": [
      "   C\n",
      "0  0\n",
      "1  1\n",
      "2  0\n",
      "3  1\n",
      "4  1\n"
     ]
    }
   ],
   "source": [
    "from pgmpy.models import BayesianModel\n",
    "from pgmpy.estimators import ParameterEstimator\n",
    "from pgmpy.estimators import MaximumLikelihoodEstimator\n",
    "import pandas as pd\n",
    "\n",
    "# Define a simple dataset\n",
    "data = pd.DataFrame(data={'A': [0, 1, 0, 1, 1], 'B': [1, 0, 0, 1, 0], 'C': [0, 1, 0, 1, 1]})\n",
    "\n",
    "# Define the structure of the Bayesian network\n",
    "model = BayesianModel([('A', 'C'), ('B', 'C')])\n",
    "\n",
    "# Use Maximum Likelihood Estimation to estimate conditional probability distributions\n",
    "model.fit(data, estimator=MaximumLikelihoodEstimator)\n",
    "\n",
    "# Perform inference\n",
    "result = model.predict(data[['A', 'B']])\n",
    "print(result)\n"
   ]
  }
 ],
 "metadata": {
  "kernelspec": {
   "display_name": "Python 3",
   "language": "python",
   "name": "python3"
  },
  "language_info": {
   "codemirror_mode": {
    "name": "ipython",
    "version": 3
   },
   "file_extension": ".py",
   "mimetype": "text/x-python",
   "name": "python",
   "nbconvert_exporter": "python",
   "pygments_lexer": "ipython3",
   "version": "3.11.5"
  }
 },
 "nbformat": 4,
 "nbformat_minor": 2
}
